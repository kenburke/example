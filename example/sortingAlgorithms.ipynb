{
 "cells": [
  {
   "cell_type": "code",
   "execution_count": 1,
   "metadata": {
    "collapsed": false
   },
   "outputs": [],
   "source": [
    "import os\n",
    "os.chdir('/Users/ken/Desktop/Grad School/Classes/Biocomputing Algorithms/homework1')\n",
    "from example import algs\n",
    "import sys\n",
    "import numpy as np"
   ]
  },
  {
   "cell_type": "code",
   "execution_count": 9,
   "metadata": {
    "collapsed": false,
    "scrolled": false
   },
   "outputs": [
    {
     "name": "stdout",
     "output_type": "stream",
     "text": [
      "Unsorted\n",
      "[   29.   582.   348.   710.   965.   816.   849.   252.    77.   802.\n",
      "    45.   272.   603.   310.   719.   101.   234.   986.   408.  1000.\n",
      "   382.   734.   506.    42.   459.   414.   871.    89.   240.   235.\n",
      "   869.   422.   922.    27.   484.   802.   739.   307.   714.   343.\n",
      "   442.   773.   403.   618.   306.   954.   830.   228.   528.   148.\n",
      "   245.   658.   407.   660.   695.   954.   787.   119.   620.   352.\n",
      "   717.   116.   861.   697.   446.   456.   886.   400.   439.   626.\n",
      "   802.   621.   140.   961.   347.   586.   719.   900.   320.   705.\n",
      "   271.   123.   943.   658.   852.    54.    91.    18.   537.   592.\n",
      "   975.   616.     5.   199.   175.   602.   957.   587.   664.   901.]\n",
      "\n",
      "Conditionals and Assignments\n",
      "(1024, 2226)\n",
      "\n",
      "Sorted\n",
      "[    5.    18.    27.    29.    42.    45.    54.    77.    89.    91.\n",
      "   101.   116.   119.   123.   140.   148.   175.   199.   228.   234.\n",
      "   235.   240.   245.   252.   271.   272.   306.   307.   310.   320.\n",
      "   343.   347.   348.   352.   382.   400.   403.   407.   408.   414.\n",
      "   422.   439.   442.   446.   456.   459.   484.   506.   528.   537.\n",
      "   582.   586.   587.   592.   602.   603.   616.   618.   620.   621.\n",
      "   626.   658.   658.   660.   664.   695.   697.   705.   710.   714.\n",
      "   717.   719.   719.   734.   739.   773.   787.   802.   802.   802.\n",
      "   816.   830.   849.   852.   861.   869.   871.   886.   900.   901.\n",
      "   922.   943.   954.   954.   957.   961.   965.   975.   986.  1000.]\n"
     ]
    }
   ],
   "source": [
    "A = np.round(np.random.rand(100)*1000)\n",
    "print('Unsorted')\n",
    "print(A)\n",
    "print('')\n",
    "print('Conditionals and Assignments')\n",
    "print(algs.quicksort(A))\n",
    "print('')\n",
    "print('Sorted')\n",
    "print(A)"
   ]
  },
  {
   "cell_type": "code",
   "execution_count": 10,
   "metadata": {
    "collapsed": false
   },
   "outputs": [
    {
     "name": "stdout",
     "output_type": "stream",
     "text": [
      "Unsorted\n",
      "[ 444.  617.  904.  858.  439.  938.  522.  149.  653.  991.  114.  503.\n",
      "  482.  766.  336.  927.  220.  539.  255.  465.   43.  830.  102.  879.\n",
      "  434.  233.  395.  438.  313.  140.  719.  456.  421.  707.  945.  655.\n",
      "  542.  226.  576.  443.   19.  673.  172.  985.  262.  460.  431.  849.\n",
      "  751.  103.  645.  679.   97.  545.  107.  611.  939.  407.  400.  231.\n",
      "  830.  557.  470.  374.  318.  409.  769.  609.  618.  257.    1.  161.\n",
      "  251.  892.  163.  288.  361.  432.   83.  948.  362.  851.  262.   98.\n",
      "  213.  240.  260.  651.   57.  176.  924.  466.   10.  141.  934.  719.\n",
      "  119.  236.  671.  648.]\n",
      "\n",
      "Conditionals and Assignments\n",
      "(4950, 8385)\n",
      "\n",
      "Sorted\n",
      "[   1.   10.   19.   43.   57.   83.   97.   98.  102.  103.  107.  114.\n",
      "  119.  140.  141.  149.  161.  163.  172.  176.  213.  220.  226.  231.\n",
      "  233.  236.  240.  251.  255.  257.  260.  262.  262.  288.  313.  318.\n",
      "  336.  361.  362.  374.  395.  400.  407.  409.  421.  431.  432.  434.\n",
      "  438.  439.  443.  444.  456.  460.  465.  466.  470.  482.  503.  522.\n",
      "  539.  542.  545.  557.  576.  609.  611.  617.  618.  645.  648.  651.\n",
      "  653.  655.  671.  673.  679.  707.  719.  719.  751.  766.  769.  830.\n",
      "  830.  849.  851.  858.  879.  892.  904.  924.  927.  934.  938.  939.\n",
      "  945.  948.  985.  991.]\n"
     ]
    }
   ],
   "source": [
    "A = np.round(np.random.rand(100)*1000)\n",
    "print('Unsorted')\n",
    "print(A)\n",
    "print('')\n",
    "print('Conditionals and Assignments')\n",
    "print(algs.bubblesort(A))\n",
    "print('')\n",
    "print('Sorted')\n",
    "print(A)"
   ]
  },
  {
   "cell_type": "code",
   "execution_count": 12,
   "metadata": {
    "collapsed": false
   },
   "outputs": [],
   "source": [
    "x = np.array([1,2,4,3])"
   ]
  },
  {
   "cell_type": "code",
   "execution_count": 17,
   "metadata": {
    "collapsed": false
   },
   "outputs": [],
   "source": [
    "x = np.array([])"
   ]
  },
  {
   "cell_type": "code",
   "execution_count": 18,
   "metadata": {
    "collapsed": false
   },
   "outputs": [
    {
     "data": {
      "text/plain": [
       "array([], dtype=float64)"
      ]
     },
     "execution_count": 18,
     "metadata": {},
     "output_type": "execute_result"
    }
   ],
   "source": [
    "x"
   ]
  },
  {
   "cell_type": "code",
   "execution_count": null,
   "metadata": {
    "collapsed": true
   },
   "outputs": [],
   "source": []
  }
 ],
 "metadata": {
  "anaconda-cloud": {},
  "kernelspec": {
   "display_name": "Python [conda root]",
   "language": "python",
   "name": "conda-root-py"
  },
  "language_info": {
   "codemirror_mode": {
    "name": "ipython",
    "version": 2
   },
   "file_extension": ".py",
   "mimetype": "text/x-python",
   "name": "python",
   "nbconvert_exporter": "python",
   "pygments_lexer": "ipython2",
   "version": "2.7.12"
  }
 },
 "nbformat": 4,
 "nbformat_minor": 1
}
