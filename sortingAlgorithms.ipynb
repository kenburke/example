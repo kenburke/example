{
 "cells": [
  {
   "cell_type": "code",
   "execution_count": 1,
   "metadata": {
    "collapsed": false
   },
   "outputs": [],
   "source": [
    "import os\n",
    "os.chdir('/Users/ken/Desktop/Grad School/Classes/Biocomputing Algorithms/homework1')\n",
    "from sortingComplexity import algs\n",
    "import sys\n",
    "import numpy as np"
   ]
  },
  {
   "cell_type": "code",
   "execution_count": 2,
   "metadata": {
    "collapsed": false,
    "scrolled": false
   },
   "outputs": [
    {
     "name": "stdout",
     "output_type": "stream",
     "text": [
      "Unsorted\n",
      "[ 437.  414.   78.  322.  807.  751.  565.  477.  321.  688.  251.  807.\n",
      "  647.  466.  533.  638.  916.  122.  572.   33.  383.  849.  994.  419.\n",
      "  564.  818.  768.  653.  172.  146.   21.  368.  120.  141.  236.  596.\n",
      "  466.  961.  310.  473.  209.  596.  747.  325.  109.  192.   97.  112.\n",
      "  463.  486.  450.  200.  238.  821.  356.   81.  453.  842.  576.  869.\n",
      "  797.  746.  310.   10.  921.   11.   71.  526.  831.  334.  881.  185.\n",
      "  893.  893.  134.   40.  199.  561.   93.  117.  933.  353.  553.  659.\n",
      "  348.  179.  673.  648.  826.  687.  521.  719.  423.  296.  183.  870.\n",
      "  794.  621.  192.  804.]\n",
      "\n",
      "Conditionals and Assignments\n",
      "(1242, 2566)\n",
      "\n",
      "Sorted\n",
      "[  10.   11.   21.   33.   40.   71.   78.   81.   93.   97.  109.  112.\n",
      "  117.  120.  122.  134.  141.  146.  172.  179.  183.  185.  192.  192.\n",
      "  199.  200.  209.  236.  238.  251.  296.  310.  310.  321.  322.  325.\n",
      "  334.  348.  353.  356.  368.  383.  414.  419.  423.  437.  450.  453.\n",
      "  463.  466.  466.  473.  477.  486.  521.  526.  533.  553.  561.  564.\n",
      "  565.  572.  576.  596.  596.  621.  638.  647.  648.  653.  659.  673.\n",
      "  687.  688.  719.  746.  747.  751.  768.  794.  797.  804.  807.  807.\n",
      "  818.  821.  826.  831.  842.  849.  869.  870.  881.  893.  893.  916.\n",
      "  921.  933.  961.  994.]\n"
     ]
    }
   ],
   "source": [
    "A = np.round(np.random.rand(100)*1000)\n",
    "print('Unsorted')\n",
    "print(A)\n",
    "print('')\n",
    "print('Conditionals and Assignments')\n",
    "print(algs.quicksort(A))\n",
    "print('')\n",
    "print('Sorted')\n",
    "print(A)"
   ]
  },
  {
   "cell_type": "code",
   "execution_count": 3,
   "metadata": {
    "collapsed": false,
    "scrolled": true
   },
   "outputs": [
    {
     "name": "stdout",
     "output_type": "stream",
     "text": [
      "Unsorted\n",
      "[ 527.  838.  396.  556.  218.   92.  927.  121.  665.  301.  205.  822.\n",
      "  934.  126.  371.  777.  299.  819.  191.  671.  150.  426.  855.  161.\n",
      "  186.  756.  442.  287.  532.  303.  641.  833.  287.  988.  924.  399.\n",
      "  593.  577.  976.  725.  473.  967.   47.  579.  368.  713.  497.  475.\n",
      "  253.  611.  273.   24.  365.  559.  142.  508.  766.  579.  765.  635.\n",
      "  294.  483.  811.  561.  571.  164.  111.  617.  116.  187.  811.  274.\n",
      "  151.  958.    9.  856.   17.  519.  505.  834.  906.  517.  383.  205.\n",
      "  982.  459.  228.  551.  955.  893.  637.   31.   86.  402.  318.  642.\n",
      "  378.  208.  581.  712.]\n",
      "\n",
      "Conditionals and Assignments\n",
      "(4951, 7494)\n",
      "\n",
      "Sorted\n",
      "[   9.   17.   24.   31.   47.   86.   92.  111.  116.  121.  126.  142.\n",
      "  150.  151.  161.  164.  186.  187.  191.  205.  205.  208.  218.  228.\n",
      "  253.  273.  274.  287.  287.  294.  299.  301.  303.  318.  365.  368.\n",
      "  371.  378.  383.  396.  399.  402.  426.  442.  459.  473.  475.  483.\n",
      "  497.  505.  508.  517.  519.  527.  532.  551.  556.  559.  561.  571.\n",
      "  577.  579.  579.  581.  593.  611.  617.  635.  637.  641.  642.  665.\n",
      "  671.  712.  713.  725.  756.  765.  766.  777.  811.  811.  819.  822.\n",
      "  833.  834.  838.  855.  856.  893.  906.  924.  927.  934.  955.  958.\n",
      "  967.  976.  982.  988.]\n"
     ]
    }
   ],
   "source": [
    "A = np.round(np.random.rand(100)*1000)\n",
    "print('Unsorted')\n",
    "print(A)\n",
    "print('')\n",
    "print('Conditionals and Assignments')\n",
    "print(algs.bubblesort(A))\n",
    "print('')\n",
    "print('Sorted')\n",
    "print(A)"
   ]
  },
  {
   "cell_type": "code",
   "execution_count": 54,
   "metadata": {
    "collapsed": false
   },
   "outputs": [],
   "source": [
    "a = np.array([1,2,4,3])"
   ]
  },
  {
   "cell_type": "code",
   "execution_count": 46,
   "metadata": {
    "collapsed": false
   },
   "outputs": [],
   "source": [
    "x = np.array([])"
   ]
  },
  {
   "cell_type": "code",
   "execution_count": 44,
   "metadata": {
    "collapsed": false
   },
   "outputs": [],
   "source": [
    "x = np.array([1,4,'b'])"
   ]
  },
  {
   "cell_type": "code",
   "execution_count": 53,
   "metadata": {
    "collapsed": false
   },
   "outputs": [
    {
     "data": {
      "text/plain": [
       "dtype('float64')"
      ]
     },
     "execution_count": 53,
     "metadata": {},
     "output_type": "execute_result"
    }
   ],
   "source": [
    "x.dtype"
   ]
  },
  {
   "cell_type": "code",
   "execution_count": 51,
   "metadata": {
    "collapsed": true
   },
   "outputs": [],
   "source": [
    "x = np.array([1.,2.,4.5])"
   ]
  },
  {
   "cell_type": "code",
   "execution_count": 52,
   "metadata": {
    "collapsed": true
   },
   "outputs": [],
   "source": [
    "x = np.array([1,3,4.])"
   ]
  },
  {
   "cell_type": "code",
   "execution_count": 55,
   "metadata": {
    "collapsed": false
   },
   "outputs": [
    {
     "data": {
      "text/plain": [
       "True"
      ]
     },
     "execution_count": 55,
     "metadata": {},
     "output_type": "execute_result"
    }
   ],
   "source": [
    "a.dtype == 'int64'"
   ]
  },
  {
   "cell_type": "code",
   "execution_count": 63,
   "metadata": {
    "collapsed": false
   },
   "outputs": [
    {
     "ename": "AssertionError",
     "evalue": "wow",
     "output_type": "error",
     "traceback": [
      "\u001b[0;31m---------------------------------------------------------------------------\u001b[0m",
      "\u001b[0;31mAssertionError\u001b[0m                            Traceback (most recent call last)",
      "\u001b[0;32m<ipython-input-63-7dc7dde90966>\u001b[0m in \u001b[0;36m<module>\u001b[0;34m()\u001b[0m\n\u001b[0;32m----> 1\u001b[0;31m \u001b[0;32massert\u001b[0m \u001b[0;36m2\u001b[0m\u001b[0;34m+\u001b[0m\u001b[0;36m2\u001b[0m\u001b[0;34m==\u001b[0m\u001b[0;36m55\u001b[0m \u001b[0;32mor\u001b[0m \u001b[0;36m2\u001b[0m\u001b[0;34m+\u001b[0m\u001b[0;36m1\u001b[0m\u001b[0;34m==\u001b[0m\u001b[0;36m6\u001b[0m\u001b[0;34m,\u001b[0m\u001b[0;34m\"wow\"\u001b[0m\u001b[0;34m\u001b[0m\u001b[0m\n\u001b[0m",
      "\u001b[0;31mAssertionError\u001b[0m: wow"
     ]
    }
   ],
   "source": [
    "assert 2+2==55 or 2+1==6,\"wow\""
   ]
  },
  {
   "cell_type": "code",
   "execution_count": null,
   "metadata": {
    "collapsed": true
   },
   "outputs": [],
   "source": []
  }
 ],
 "metadata": {
  "anaconda-cloud": {},
  "kernelspec": {
   "display_name": "Python [conda root]",
   "language": "python",
   "name": "conda-root-py"
  },
  "language_info": {
   "codemirror_mode": {
    "name": "ipython",
    "version": 2
   },
   "file_extension": ".py",
   "mimetype": "text/x-python",
   "name": "python",
   "nbconvert_exporter": "python",
   "pygments_lexer": "ipython2",
   "version": "2.7.12"
  }
 },
 "nbformat": 4,
 "nbformat_minor": 1
}
